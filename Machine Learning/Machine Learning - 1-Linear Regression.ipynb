{
  "nbformat": 4,
  "nbformat_minor": 0,
  "metadata": {
    "colab": {
      "name": "ML02-PhuongND-Assignment 1.ipynb",
      "provenance": [],
      "collapsed_sections": []
    },
    "kernelspec": {
      "name": "python3",
      "display_name": "Python 3"
    }
  },
  "cells": [
    {
      "cell_type": "markdown",
      "metadata": {
        "id": "-qB32FPttD6q"
      },
      "source": [
        "1/ Generate 100 2D-samples X that belongs to a Gaussian distribution, i.e. $R^2 ∈ ((0,0), [[1, 0], [0 −1]])$, write code to find the sample mean and sample variance of the data set.\n",
        "\n",
        "Tips: In Python, you can generate these samples with the following script:\n",
        "\n",
        "np.random.multivariate_normal([0, 0], [[1, 0], [0, -1]], 100)"
      ]
    },
    {
      "cell_type": "code",
      "metadata": {
        "id": "c9lYsMietHWy",
        "colab": {
          "base_uri": "https://localhost:8080/",
          "height": 1000
        },
        "outputId": "c7799b7f-ef2f-482e-e5b0-834d05f2ca91"
      },
      "source": [
        "import numpy as np\n",
        "import statistics \n",
        "X = np.random.multivariate_normal([0, 0], [[1, 0], [0, -1]], 100)\n",
        "X = np.sort(X)\n",
        "X"
      ],
      "execution_count": null,
      "outputs": [
        {
          "output_type": "stream",
          "text": [
            "/usr/local/lib/python3.6/dist-packages/ipykernel_launcher.py:3: RuntimeWarning: covariance is not positive-semidefinite.\n",
            "  This is separate from the ipykernel package so we can avoid doing imports until\n"
          ],
          "name": "stderr"
        },
        {
          "output_type": "execute_result",
          "data": {
            "text/plain": [
              "array([[-2.09873912,  0.40140334],\n",
              "       [ 0.73809049,  1.16917741],\n",
              "       [-0.62925344,  0.71771912],\n",
              "       [-0.70934493,  0.23810808],\n",
              "       [ 1.08187282,  1.9403069 ],\n",
              "       [ 0.28471219,  0.53701492],\n",
              "       [-0.39394498,  0.82650248],\n",
              "       [-0.27399036,  0.27666029],\n",
              "       [ 1.08236634,  2.03182733],\n",
              "       [-1.63277078, -1.02981616],\n",
              "       [-0.13725063,  1.45255775],\n",
              "       [ 0.60004397,  0.90457406],\n",
              "       [ 0.15041132,  1.97079033],\n",
              "       [-0.71900115,  0.1808332 ],\n",
              "       [-0.35945655,  0.23758375],\n",
              "       [-1.07691419, -0.0917319 ],\n",
              "       [-0.85600328,  0.04982916],\n",
              "       [-0.75885003,  0.64115291],\n",
              "       [ 0.40255842,  0.918899  ],\n",
              "       [-0.29611901,  0.51693879],\n",
              "       [-0.15530303,  2.03183854],\n",
              "       [-1.67553292, -0.31467243],\n",
              "       [-1.68608179, -0.04954641],\n",
              "       [-0.28179174,  0.30318254],\n",
              "       [ 0.24085127,  0.27523206],\n",
              "       [-2.3182595 , -1.32679929],\n",
              "       [-0.69005381,  1.08982604],\n",
              "       [-1.35227493,  0.72486569],\n",
              "       [-0.14074999,  0.14913742],\n",
              "       [ 0.25582183,  1.66950074],\n",
              "       [-0.24722885,  0.49893636],\n",
              "       [-0.23431394,  0.6545282 ],\n",
              "       [-0.05034046,  1.2783215 ],\n",
              "       [-2.04526985, -0.2330129 ],\n",
              "       [-0.02260115,  1.18573556],\n",
              "       [-0.71759994,  0.97859156],\n",
              "       [-0.35324721,  0.1596028 ],\n",
              "       [-0.28723169,  0.56609023],\n",
              "       [-0.13601873,  1.57906667],\n",
              "       [ 0.44051894,  0.82844064],\n",
              "       [-0.76065425,  0.9871479 ],\n",
              "       [-0.48723674, -0.14713218],\n",
              "       [-1.31236325,  0.26481344],\n",
              "       [-0.15808835,  1.26198804],\n",
              "       [-1.05270274,  0.89820232],\n",
              "       [-1.2098732 , -0.02126689],\n",
              "       [ 0.01923772,  0.37591221],\n",
              "       [ 0.04715091,  0.60972757],\n",
              "       [-0.70657952,  0.81051821],\n",
              "       [ 0.93974342,  1.58975517],\n",
              "       [-0.76885981,  0.18283274],\n",
              "       [ 0.25481673,  0.44701398],\n",
              "       [ 0.5878651 ,  0.98852818],\n",
              "       [-0.32160402,  0.22014142],\n",
              "       [ 0.09893891,  0.34907055],\n",
              "       [-1.11331893, -0.48692632],\n",
              "       [-1.31755796, -0.27236849],\n",
              "       [-0.31655306,  0.86544484],\n",
              "       [-2.14582466, -1.23676185],\n",
              "       [-0.47758244,  0.32527332],\n",
              "       [-0.4657958 ,  0.27750225],\n",
              "       [-0.1625509 , -0.03329015],\n",
              "       [-0.32662536,  0.67119316],\n",
              "       [-1.12838129, -0.73732619],\n",
              "       [-1.54980048,  0.47941866],\n",
              "       [-0.76745768,  0.62330331],\n",
              "       [-0.58021327, -0.13841697],\n",
              "       [-0.07585794,  0.48624744],\n",
              "       [-0.40835249,  1.88709935],\n",
              "       [-0.26454147,  1.33743841],\n",
              "       [-1.86531014, -1.05610997],\n",
              "       [-1.26120966,  0.30939702],\n",
              "       [-0.11124084, -0.0949077 ],\n",
              "       [ 0.21846424,  0.76643918],\n",
              "       [-1.70826053, -1.38798258],\n",
              "       [-0.02966731,  0.06967055],\n",
              "       [ 0.32990932,  1.29756718],\n",
              "       [-0.81978125, -0.57930002],\n",
              "       [-0.86061961,  0.18835089],\n",
              "       [ 0.11114759,  0.63029692],\n",
              "       [ 0.00422004,  0.97848085],\n",
              "       [ 0.50385057,  1.75951998],\n",
              "       [-0.87503606, -0.39748513],\n",
              "       [-0.0360982 ,  1.83896659],\n",
              "       [-1.26197763,  2.12391406],\n",
              "       [-0.79233532,  0.4649507 ],\n",
              "       [ 0.71041104,  1.41004412],\n",
              "       [-0.97656649,  1.47451977],\n",
              "       [ 0.01364824,  1.03417341],\n",
              "       [-1.07333673,  0.68924931],\n",
              "       [-0.51888767,  0.78631002],\n",
              "       [-0.98526456,  0.90226241],\n",
              "       [-0.09203388,  1.1970751 ],\n",
              "       [-1.46935441,  1.30024005],\n",
              "       [-1.32053147, -0.35441516],\n",
              "       [ 0.06064386,  0.64526656],\n",
              "       [-1.56667832, -0.70866038],\n",
              "       [-1.55791132,  1.17434925],\n",
              "       [ 0.30911451,  0.61259684],\n",
              "       [-1.09210067,  1.22717955]])"
            ]
          },
          "metadata": {
            "tags": []
          },
          "execution_count": 2
        }
      ]
    },
    {
      "cell_type": "code",
      "metadata": {
        "id": "YjvudgkPxMQ4",
        "colab": {
          "base_uri": "https://localhost:8080/",
          "height": 50
        },
        "outputId": "f1eff39e-b50c-404a-baa6-2599bc9384bd"
      },
      "source": [
        "print(np.mean(X, axis=0)) # phải có 2 sample means do np array là 2 cột\n",
        "print(np.var(X, axis=0)) # phải có 2 sample variances do np array là 2 cột"
      ],
      "execution_count": null,
      "outputs": [
        {
          "output_type": "stream",
          "text": [
            "[-0.51001706  0.57106239]\n",
            "[0.55231485 0.58475498]\n"
          ],
          "name": "stdout"
        }
      ]
    },
    {
      "cell_type": "markdown",
      "metadata": {
        "id": "pGkLuEUNvewJ"
      },
      "source": [
        "2/ Generate 100 samples X that belongs to an uniformly distribution, i.e. $X_{i} ∈ U[−4,4]$.\n",
        "\n",
        "For each sample $X_i$, compute $Y_i = f(x_i)$ for $f$ is a 3rd-degree polynomial function $f(x) = x^3 + 2x^2 − 4x + 5$. Generate 100 random noise $e$ ~ $N(0,1)$. Let $\\hat{Y}$ is the dataset formed from each point $Y_i$ plus its respective noise $(\\hat{Y}_i = Y_i + e_i)$. Write code to compute the mean of square error (MSE) between $Y$ and $\\hat{X}$. The MSE is defined as:\n",
        "\n",
        "MSE$(Y, \\hat{Y}) = \\frac{1}{N} \\sum^{N}_{i=1} (Y_i - \\hat{Y}_i)^2$"
      ]
    },
    {
      "cell_type": "code",
      "metadata": {
        "id": "UazLhaI4tJoo",
        "colab": {
          "base_uri": "https://localhost:8080/",
          "height": 353
        },
        "outputId": "8f23d572-ff87-40d4-cabf-61b1411fdc3d"
      },
      "source": [
        "np.random.seed(0)\n",
        "X = np.random.uniform(-4,4,100)\n",
        "X = np.sort(X)\n",
        "X"
      ],
      "execution_count": null,
      "outputs": [
        {
          "output_type": "execute_result",
          "data": {
            "text/plain": [
              "array([-3.96243619, -3.8496816 , -3.83913963, -3.83825282, -3.68649766,\n",
              "       -3.51819623, -3.48682003, -3.43171153, -3.3029656 , -3.24847591,\n",
              "       -3.23121274, -3.22318979, -3.18364151, -3.11699887, -3.05380459,\n",
              "       -3.05017825, -3.03842751, -2.96858962, -2.9456171 , -2.89453639,\n",
              "       -2.8531737 , -2.72824333, -2.70952386, -2.5344691 , -2.42734111,\n",
              "       -2.32898595, -2.31693951, -2.04459526, -1.97366718, -1.8835551 ,\n",
              "       -1.87688407, -1.7375443 , -1.68475126, -1.63087842, -1.47657319,\n",
              "       -1.45613456, -1.45144838, -1.1239368 , -1.09031383, -1.05019863,\n",
              "       -0.93246785, -0.68589604, -0.68270448, -0.61076161, -0.50374437,\n",
              "       -0.49930231, -0.49118789, -0.35079734, -0.3081651 , -0.26951382,\n",
              "       -0.25079039,  0.17478657,  0.18598443,  0.23115936,  0.35906546,\n",
              "        0.39050803,  0.53281163,  0.54435649,  0.54747159,  0.56157416,\n",
              "        0.60757196,  0.69210348,  0.82210701,  0.83876416,  0.89676578,\n",
              "        0.93547197,  0.94108398,  1.11936817,  1.1671529 ,  1.2248666 ,\n",
              "        1.25063672,  1.33413372,  1.33928304,  1.36510296,  1.45456239,\n",
              "        1.53977695,  1.58104957,  1.72151493,  1.73061763,  1.91410864,\n",
              "        2.19386952,  2.22525401,  2.24423341,  2.3338003 ,  2.39326851,\n",
              "        2.56794584,  2.63152023,  2.66095876,  2.70355926,  2.96009719,\n",
              "        3.13418401,  3.40477311,  3.43436958,  3.54998463,  3.55735134,\n",
              "        3.70930208,  3.81167572,  3.81408871,  3.82894674,  3.9069907 ])"
            ]
          },
          "metadata": {
            "tags": []
          },
          "execution_count": 4
        }
      ]
    },
    {
      "cell_type": "code",
      "metadata": {
        "id": "D6vkJ7VytJq6",
        "colab": {
          "base_uri": "https://localhost:8080/",
          "height": 437
        },
        "outputId": "730a8fe0-c5d2-4ee0-986c-dc2bc3af0836"
      },
      "source": [
        "Y = X**3 + 2*X**2 - 4*X + 5\n",
        "noise = np.random.normal(0, 1, 100)\n",
        "Y_hat = Y + noise\n",
        "Y_hat"
      ],
      "execution_count": null,
      "outputs": [
        {
          "output_type": "execute_result",
          "data": {
            "text/plain": [
              "array([-11.12742057,  -6.1128179 ,  -6.28484537,  -8.26471251,\n",
              "        -1.68570733,   2.17688952,   2.04942976,   1.68616417,\n",
              "         2.9263    ,   5.87369374,   4.66690716,   6.40754365,\n",
              "         5.94595572,   7.59222874,   7.74409557,   8.1368611 ,\n",
              "         7.57740395,  10.12450939,   8.70458232,   9.4854041 ,\n",
              "        11.35049953,   9.14467218,   9.35862718,  12.67409286,\n",
              "        11.0183537 ,  14.47508743,  12.15274162,  12.24450155,\n",
              "        14.92018662,  14.42785606,  14.80879497,  13.64859141,\n",
              "        11.77257721,  14.41535508,  11.77950032,  12.7801677 ,\n",
              "        12.9086805 ,  10.44740984,  11.05675529,  11.17055345,\n",
              "        10.03451217,   7.26240804,   8.64302831,   9.28765955,\n",
              "         6.70009704,   7.22170283,   6.89362239,   8.45540196,\n",
              "         7.0656215 ,   6.61121564,   5.34326344,   4.90654338,\n",
              "         3.65734328,   4.22641434,   3.23204168,   4.47894533,\n",
              "         4.16437971,   3.36822915,   3.96966164,   2.46847406,\n",
              "         2.04102329,   3.9605148 ,   3.78559452,   4.27711725,\n",
              "         6.12562844,   4.77144606,   2.92758069,   5.54806545,\n",
              "         3.32992204,   4.47721053,   5.01350705,   7.31127509,\n",
              "         4.88771508,   4.98403946,   6.39229435,   6.56991734,\n",
              "         8.75405076,   8.06314124,   8.10340012,  11.24630308,\n",
              "        15.91184957,  18.95094036,  18.34892355,  19.35693018,\n",
              "        19.36496465,  25.69519422,  25.54651235,  25.81425177,\n",
              "        29.75320177,  36.93779517,  43.8177739 ,  54.35435886,\n",
              "        56.21716771,  60.09211144,  60.06323547,  69.39822795,\n",
              "        73.38697891,  73.63322903,  74.68589594,  79.55722704])"
            ]
          },
          "metadata": {
            "tags": []
          },
          "execution_count": 5
        }
      ]
    },
    {
      "cell_type": "code",
      "metadata": {
        "id": "2A2JJqgIRdCV",
        "colab": {
          "base_uri": "https://localhost:8080/",
          "height": 50
        },
        "outputId": "f2dd8678-01ff-42ab-b952-00c09af5b872"
      },
      "source": [
        "print(Y.shape)\n",
        "print(noise.shape)"
      ],
      "execution_count": null,
      "outputs": [
        {
          "output_type": "stream",
          "text": [
            "(100,)\n",
            "(100,)\n"
          ],
          "name": "stdout"
        }
      ]
    },
    {
      "cell_type": "code",
      "metadata": {
        "id": "pxjTFQ5Osjoa",
        "colab": {
          "base_uri": "https://localhost:8080/",
          "height": 442
        },
        "outputId": "79bfeb45-1961-469e-b3aa-7b98593b48b6"
      },
      "source": [
        "# Y = X**3 + 2*X**2 - 4*X + 5\n",
        "# def sigmoid(x):\n",
        "#     y = (1 / (1 + np.exp(-x)))\n",
        "#     return y\n",
        "# Y_hat = sigmoid(Y)\n",
        "# Y_hat    "
      ],
      "execution_count": null,
      "outputs": [
        {
          "output_type": "execute_result",
          "data": {
            "text/plain": [
              "array([4.71433371e-05, 8.98715974e-04, 1.16891723e-03, 1.19493383e-03,\n",
              "       4.01575180e-02, 5.69791455e-01, 7.04880972e-01, 8.66005094e-01,\n",
              "       9.81961657e-01, 9.91991746e-01, 9.93757324e-01, 9.94431794e-01,\n",
              "       9.96788117e-01, 9.98662467e-01, 9.99381583e-01, 9.99407335e-01,\n",
              "       9.99482976e-01, 9.99760960e-01, 9.99811772e-01, 9.99886480e-01,\n",
              "       9.99922670e-01, 9.99972255e-01, 9.99975799e-01, 9.99991745e-01,\n",
              "       9.99994927e-01, 9.99996389e-01, 9.99996513e-01, 9.99997721e-01,\n",
              "       9.99997733e-01, 9.99997617e-01, 9.99997603e-01, 9.99997076e-01,\n",
              "       9.99996740e-01, 9.99996293e-01, 9.99994141e-01, 9.99993717e-01,\n",
              "       9.99993614e-01, 9.99975145e-01, 9.99970840e-01, 9.99964585e-01,\n",
              "       9.99936097e-01, 9.99766433e-01, 9.99762425e-01, 9.99651413e-01,\n",
              "       9.99385855e-01, 9.99371369e-01, 9.99344054e-01, 9.98649782e-01,\n",
              "       9.98330111e-01, 9.97982253e-01, 9.97791387e-01, 9.87473388e-01,\n",
              "       9.87025064e-01, 9.85146924e-01, 9.79525494e-01, 9.78172428e-01,\n",
              "       9.73085032e-01, 9.72788524e-01, 9.72712370e-01, 9.72388836e-01,\n",
              "       9.71592434e-01, 9.71282847e-01, 9.73888501e-01, 9.74471152e-01,\n",
              "       9.76853286e-01, 9.78688500e-01, 9.78966951e-01, 9.88237995e-01,\n",
              "       9.90489751e-01, 9.92887723e-01, 9.93829272e-01, 9.96308163e-01,\n",
              "       9.96433046e-01, 9.97012952e-01, 9.98484884e-01, 9.99278456e-01,\n",
              "       9.99513319e-01, 9.99893053e-01, 9.99903981e-01, 9.99991574e-01,\n",
              "       9.99999925e-01, 9.99999959e-01, 9.99999972e-01, 9.99999996e-01,\n",
              "       9.99999999e-01, 1.00000000e+00, 1.00000000e+00, 1.00000000e+00,\n",
              "       1.00000000e+00, 1.00000000e+00, 1.00000000e+00, 1.00000000e+00,\n",
              "       1.00000000e+00, 1.00000000e+00, 1.00000000e+00, 1.00000000e+00,\n",
              "       1.00000000e+00, 1.00000000e+00, 1.00000000e+00, 1.00000000e+00])"
            ]
          },
          "metadata": {
            "tags": []
          },
          "execution_count": 9
        }
      ]
    },
    {
      "cell_type": "code",
      "metadata": {
        "id": "2Ojv8W-W0E5v",
        "colab": {
          "base_uri": "https://localhost:8080/",
          "height": 34
        },
        "outputId": "c2496330-c850-43f5-e417-a4390ca38681"
      },
      "source": [
        "diff = (Y - Y_hat)**2\n",
        "mse = sum(diff) / len(diff)\n",
        "mse"
      ],
      "execution_count": null,
      "outputs": [
        {
          "output_type": "execute_result",
          "data": {
            "text/plain": [
              "0.9852523193375873"
            ]
          },
          "metadata": {
            "tags": []
          },
          "execution_count": 13
        }
      ]
    },
    {
      "cell_type": "markdown",
      "metadata": {
        "id": "4UsqMbp60hbZ"
      },
      "source": [
        "3/ Write code to plot $(X, Y)$ and $(X, \\hat{Y})$ on the sample figure.\n",
        "Tips: You can refer this tutorial to learn how to use matplotlib for plotting functions in Python"
      ]
    },
    {
      "cell_type": "code",
      "metadata": {
        "id": "sN6ExEMV0d-2",
        "colab": {
          "base_uri": "https://localhost:8080/",
          "height": 279
        },
        "outputId": "0b6bf8bb-ccc2-42a4-a26d-1966676de8e3"
      },
      "source": [
        "import matplotlib.pyplot as plt \n",
        "plt.plot(X\u001d, Y)\n",
        "plt.xlabel(\"X\") \n",
        "plt.ylabel(\"Y\")\n",
        "plt.grid()  \n",
        "plt.show() "
      ],
      "execution_count": null,
      "outputs": [
        {
          "output_type": "display_data",
          "data": {
            "image/png": "[encoded data removed]",
            "text/plain": [
              "<Figure size 432x288 with 1 Axes>"
            ]
          },
          "metadata": {
            "tags": [],
            "needs_background": "light"
          }
        }
      ]
    },
    {
      "cell_type": "code",
      "metadata": {
        "id": "WB83-Q55312B",
        "colab": {
          "base_uri": "https://localhost:8080/",
          "height": 279
        },
        "outputId": "2b529539-94d8-4647-eb40-665175975721"
      },
      "source": [
        "import matplotlib.pyplot as plt \n",
        "plt.plot(X, Y, 'b-', X\u001d, Y_hat, 'r.')\n",
        "plt.xlabel(\"X\") \n",
        "plt.ylabel(\"Y_hat\")\n",
        "plt.grid()  \n",
        "plt.show() "
      ],
      "execution_count": null,
      "outputs": [
        {
          "output_type": "display_data",
          "data": {
            "image/png": "[encoded data removed]",
            "text/plain": [
              "<Figure size 432x288 with 1 Axes>"
            ]
          },
          "metadata": {
            "tags": [],
            "needs_background": "light"
          }
        }
      ]
    },
    {
      "cell_type": "code",
      "metadata": {
        "id": "D2t8-sm5_MnY"
      },
      "source": [
        ""
      ],
      "execution_count": null,
      "outputs": []
    }
  ]
}